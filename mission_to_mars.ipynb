{
 "cells": [
  {
   "cell_type": "code",
   "execution_count": 166,
   "metadata": {},
   "outputs": [],
   "source": [
    "# Import BeautifulSoup and other modules needed\n",
    "from bs4 import BeautifulSoup as bs\n",
    "import requests\n",
    "import pandas as pd"
   ]
  },
  {
   "cell_type": "code",
   "execution_count": 2,
   "metadata": {},
   "outputs": [],
   "source": [
    "# Import Splinter and set the chromedriver path\n",
    "from splinter import Browser\n",
    "executable_path = {\"executable_path\": \"/usr/local/bin/chromedriver\"}\n",
    "browser = Browser(\"chrome\", **executable_path, headless=False)"
   ]
  },
  {
   "cell_type": "code",
   "execution_count": 3,
   "metadata": {},
   "outputs": [],
   "source": [
    "#Visit the following URL for NASA news\n",
    "url1 = \"https://mars.nasa.gov/news/\"\n",
    "browser.visit(url1)"
   ]
  },
  {
   "cell_type": "code",
   "execution_count": 4,
   "metadata": {},
   "outputs": [],
   "source": [
    "#might need to put a time delay on this scrap to get all the html\n",
    "html = browser.html\n",
    "soup = bs(html, \"lxml\")\n"
   ]
  },
  {
   "cell_type": "code",
   "execution_count": 14,
   "metadata": {},
   "outputs": [
    {
     "name": "stdout",
     "output_type": "stream",
     "text": [
      "NASA's MRO Completes 60,000 Trips Around Mars\n",
      "The orbiting spacecraft is also about to set a record for data relayed from the Martian surface.\n"
     ]
    }
   ],
   "source": [
    "latest_news_title_html = soup.find('div', class_='content_title')\n",
    "#print(latest_news_title_html.a.text)\n",
    "news_title = latest_news_title_html.a.text\n",
    "print(news_title)\n",
    "\n",
    "latest_news_teaser_html = soup.find('div', class_='article_teaser_body')\n",
    "news_p = latest_news_teaser_html.text\n",
    "print(news_p)\n"
   ]
  },
  {
   "cell_type": "code",
   "execution_count": 68,
   "metadata": {},
   "outputs": [],
   "source": [
    "#Visit the url for JPL Featured Space Image https://www.jpl.nasa.gov/spaceimages/?search=&category=Mars).\n",
    "url2 = 'https://www.jpl.nasa.gov/spaceimages/?search=&category=Mars'\n",
    "browser.visit(url2)\n",
    "#Use splinter to navigate the site \n",
    "#and find the image url for the current Featured Mars Image\n",
    "#assign the url string to a variable called `featured_image_url`."
   ]
  },
  {
   "cell_type": "code",
   "execution_count": 69,
   "metadata": {},
   "outputs": [],
   "source": [
    "xpath1 = '//footer//a[@class=\"button fancybox\"]'"
   ]
  },
  {
   "cell_type": "code",
   "execution_count": 70,
   "metadata": {},
   "outputs": [],
   "source": [
    "# Design an XPATH selector to click on current featured mars image\n",
    "results1 = browser.find_by_xpath(xpath1)\n",
    "img1 = results1\n",
    "img1.click()"
   ]
  },
  {
   "cell_type": "code",
   "execution_count": 71,
   "metadata": {},
   "outputs": [],
   "source": [
    "#large image within the article, need to click on another button\n",
    "xpath2 = '//div[@class=\"buttons\"]/a[@class=\"button\"]'"
   ]
  },
  {
   "cell_type": "code",
   "execution_count": 72,
   "metadata": {},
   "outputs": [],
   "source": [
    "results2 = browser.find_by_xpath(xpath2)\n",
    "img2 = results2\n",
    "img2.click()"
   ]
  },
  {
   "cell_type": "code",
   "execution_count": 73,
   "metadata": {},
   "outputs": [
    {
     "name": "stdout",
     "output_type": "stream",
     "text": [
      "https://www.jpl.nasa.gov/spaceimages/images/largesize/PIA16029_hires.jpg\n"
     ]
    }
   ],
   "source": [
    "# Scrape the browser into soup and use soup to find the full resolution image of mars\n",
    "# Save the image url to a variable called `img_url`\n",
    "html2 = browser.html\n",
    "soup2 = bs(html2, 'html.parser')\n",
    "partial_img_url = soup2.find(\"figure\", class_='lede').a[\"href\"]\n",
    "featured_img_url = f'https://www.jpl.nasa.gov{partial_img_url}'\n",
    "print(featured_img_url)"
   ]
  },
  {
   "cell_type": "code",
   "execution_count": 88,
   "metadata": {},
   "outputs": [],
   "source": [
    "#Visit the Mars Weather twitter account\n",
    "mars_weather_twitter = 'https://twitter.com/marswxreport?lang=en'\n",
    "\n",
    "#scrape the latest Mars weather tweet from the page\n",
    "#Save the tweet text for the weather report as a variable called `mars_weather`.\n",
    "browser.visit(mars_weather_twitter)\n",
    "\n"
   ]
  },
  {
   "cell_type": "code",
   "execution_count": 164,
   "metadata": {},
   "outputs": [
    {
     "name": "stdout",
     "output_type": "stream",
     "text": [
      "InSight sol 165 (2019-05-15) low -100.3ºC (-148.6ºF) high -18.2ºC (-0.7ºF)\n",
      "winds from the SW at 4.6 m/s (10.4 mph) gusting to 13.7 m/s (30.6 mph)\n",
      "pressure at 7.50 hPapic.twitter.com/7NMgdAkFA8\n",
      "['InSight', 'sol', '165', '(2019-05-15)', 'low', '-100.3ºC', '(-148.6ºF)', 'high', '-18.2ºC', '(-0.7ºF)\\nwinds', 'from', 'the', 'SW', 'at', '4.6', 'm/s', '(10.4', 'mph)', 'gusting', 'to', '13.7', 'm/s', '(30.6', 'mph)\\npressure', 'at', '7.50', 'hPa']\n",
      "InSight sol 165 (2019-05-15) low -100.3ºC (-148.6ºF) high -18.2ºC (-0.7ºF)\n",
      "winds from the SW at 4.6 m/s (10.4 mph) gusting to 13.7 m/s (30.6 mph)\n",
      "pressure at 7.50 hPa\n"
     ]
    }
   ],
   "source": [
    "#get weather from twitter\n",
    "html3 = browser.html\n",
    "soup3 = bs(html3, 'html.parser')\n",
    "mars_weather_html = soup3.find_all('div', class_='js-tweet-text-container')\n",
    "#find all is used since there is a pinned tweet \n",
    "#if there wasnt a pinned tweet, i'd be able to get the first result using find()\n",
    "\n",
    "#print(mars_weather_html[1].p.text)\n",
    "\n",
    "#a twitter link in embedded with the text, need to split it out\n",
    "#need to append back the pressure units: hPa\n",
    "split_weather = mars_weather_html[1].p.text.split(\" \")\n",
    "split_weather.pop(-1)\n",
    "split_weather.append('hPa')\n",
    "\n",
    "#print(split_weather)\n",
    "\n",
    "merged_weather = \" \".join(split_weather)\n",
    "\n",
    "mars_weather = merged_weather\n",
    "\n",
    "print(mars_weather)"
   ]
  },
  {
   "cell_type": "code",
   "execution_count": 198,
   "metadata": {},
   "outputs": [
    {
     "data": {
      "text/html": [
       "<div>\n",
       "<style scoped>\n",
       "    .dataframe tbody tr th:only-of-type {\n",
       "        vertical-align: middle;\n",
       "    }\n",
       "\n",
       "    .dataframe tbody tr th {\n",
       "        vertical-align: top;\n",
       "    }\n",
       "\n",
       "    .dataframe thead th {\n",
       "        text-align: right;\n",
       "    }\n",
       "</style>\n",
       "<table border=\"1\" class=\"dataframe\">\n",
       "  <thead>\n",
       "    <tr style=\"text-align: right;\">\n",
       "      <th></th>\n",
       "      <th>Fact Value</th>\n",
       "    </tr>\n",
       "    <tr>\n",
       "      <th>Fact type</th>\n",
       "      <th></th>\n",
       "    </tr>\n",
       "  </thead>\n",
       "  <tbody>\n",
       "    <tr>\n",
       "      <th>Equatorial Diameter:</th>\n",
       "      <td>6,792 km</td>\n",
       "    </tr>\n",
       "    <tr>\n",
       "      <th>Polar Diameter:</th>\n",
       "      <td>6,752 km</td>\n",
       "    </tr>\n",
       "    <tr>\n",
       "      <th>Mass:</th>\n",
       "      <td>6.42 x 10^23 kg (10.7% Earth)</td>\n",
       "    </tr>\n",
       "    <tr>\n",
       "      <th>Moons:</th>\n",
       "      <td>2 (Phobos &amp; Deimos)</td>\n",
       "    </tr>\n",
       "    <tr>\n",
       "      <th>Orbit Distance:</th>\n",
       "      <td>227,943,824 km (1.52 AU)</td>\n",
       "    </tr>\n",
       "  </tbody>\n",
       "</table>\n",
       "</div>"
      ],
      "text/plain": [
       "                                         Fact Value\n",
       "Fact type                                          \n",
       "Equatorial Diameter:                       6,792 km\n",
       "Polar Diameter:                            6,752 km\n",
       "Mass:                 6.42 x 10^23 kg (10.7% Earth)\n",
       "Moons:                          2 (Phobos & Deimos)\n",
       "Orbit Distance:            227,943,824 km (1.52 AU)"
      ]
     },
     "execution_count": 198,
     "metadata": {},
     "output_type": "execute_result"
    }
   ],
   "source": [
    "#Visit the Mars Facts webpage\n",
    "url4 = 'https://space-facts.com/mars/'\n",
    "\n",
    "#use Pandas to scrape the table containing facts about the planet\n",
    "#including Diameter, Mass, etc.\n",
    "table = pd.read_html(url4)\n",
    "mars_facts_init = table[0]\n",
    "mars_facts = mars_facts_init.rename(columns={0:'Fact type', 1:'Fact Value'})\n",
    "mars_facts.set_index(\"Fact type\", inplace=True)\n",
    "#mars_facts.head()\n",
    "mars_facts.head()"
   ]
  },
  {
   "cell_type": "code",
   "execution_count": 199,
   "metadata": {},
   "outputs": [
    {
     "name": "stdout",
     "output_type": "stream",
     "text": [
      "<table border=\"1\" class=\"dataframe\">\n",
      "  <thead>\n",
      "    <tr style=\"text-align: right;\">\n",
      "      <th></th>\n",
      "      <th>Fact Value</th>\n",
      "    </tr>\n",
      "    <tr>\n",
      "      <th>Fact type</th>\n",
      "      <th></th>\n",
      "    </tr>\n",
      "  </thead>\n",
      "  <tbody>\n",
      "    <tr>\n",
      "      <th>Equatorial Diameter:</th>\n",
      "      <td>6,792 km</td>\n",
      "    </tr>\n",
      "    <tr>\n",
      "      <th>Polar Diameter:</th>\n",
      "      <td>6,752 km</td>\n",
      "    </tr>\n",
      "    <tr>\n",
      "      <th>Mass:</th>\n",
      "      <td>6.42 x 10^23 kg (10.7% Earth)</td>\n",
      "    </tr>\n",
      "    <tr>\n",
      "      <th>Moons:</th>\n",
      "      <td>2 (Phobos &amp; Deimos)</td>\n",
      "    </tr>\n",
      "    <tr>\n",
      "      <th>Orbit Distance:</th>\n",
      "      <td>227,943,824 km (1.52 AU)</td>\n",
      "    </tr>\n",
      "    <tr>\n",
      "      <th>Orbit Period:</th>\n",
      "      <td>687 days (1.9 years)</td>\n",
      "    </tr>\n",
      "    <tr>\n",
      "      <th>Surface Temperature:</th>\n",
      "      <td>-153 to 20 °C</td>\n",
      "    </tr>\n",
      "    <tr>\n",
      "      <th>First Record:</th>\n",
      "      <td>2nd millennium BC</td>\n",
      "    </tr>\n",
      "    <tr>\n",
      "      <th>Recorded By:</th>\n",
      "      <td>Egyptian astronomers</td>\n",
      "    </tr>\n",
      "  </tbody>\n",
      "</table>\n"
     ]
    }
   ],
   "source": [
    "#Use Pandas to convert the data to a HTML table string.\n",
    "mars_facts_html_table = mars_facts.to_html()\n",
    "print(mars_facts_html_table)"
   ]
  },
  {
   "cell_type": "code",
   "execution_count": 241,
   "metadata": {},
   "outputs": [],
   "source": [
    "#Visit the USGS Astrogeology site\n",
    "url5 = 'https://astrogeology.usgs.gov/search/results?q=hemisphere+enhanced&k1=target&v1=Mars'\n",
    "browser.visit(url5)\n",
    "\n",
    "hemisphere_html = browser.html\n",
    "\n",
    "soup_hemisphere = bs(hemisphere_html, 'html.parser')\n",
    "\n",
    "#all hemispheres are nicely within one type of header: h3\n",
    "list_of_hemispheres = soup_hemisphere.find_all('h3')\n",
    "\n",
    "\n",
    "#print(list_of_hemispheres)\n",
    "\n",
    "\n",
    "#dictionary list with the image url string and the hemisphere title \n",
    "#This list will contain one dictionary for each hemisphere.\n",
    "hemisphere_image_urls = []\n",
    "\n",
    "link_to_images = soup_hemisphere.find_all('div', class_='description')\n",
    "\n",
    "#print(link_to_images[0].a['href'])\n",
    "#with a list of number of hemispheres, i can iterate each link \n",
    "for hemisphere_num in range(len(list_of_hemispheres)):\n",
    "    partial_link1 = link_to_images[hemisphere_num].a['href']\n",
    "    full_link1 = f'https://astrogeology.usgs.gov{partial_link1}'\n",
    "    browser.visit(full_link1)\n",
    "    hemisphere_page_html = browser.html\n",
    "    soup_each_hemisphere = bs(hemisphere_page_html, 'html.parser')\n",
    "    hemisphere_title = soup_each_hemisphere.find('h2', class_='title')\n",
    "    link = soup_each_hemisphere.find('li')\n",
    "    title_and_link = dict({'title': hemisphere_title.text, 'img_url':link.a['href']})\n",
    "    hemisphere_image_urls.append(title_and_link)\n",
    "    browser.back()\n",
    "\n",
    "#obtain high resolution images for each of Mar's hemispheres.\n",
    "#You will need to click each of the links to the hemispheres "
   ]
  },
  {
   "cell_type": "code",
   "execution_count": 242,
   "metadata": {},
   "outputs": [
    {
     "name": "stdout",
     "output_type": "stream",
     "text": [
      "[{'title': 'Cerberus Hemisphere Enhanced', 'img_url': 'http://astropedia.astrogeology.usgs.gov/download/Mars/Viking/cerberus_enhanced.tif/full.jpg'}, {'title': 'Schiaparelli Hemisphere Enhanced', 'img_url': 'http://astropedia.astrogeology.usgs.gov/download/Mars/Viking/schiaparelli_enhanced.tif/full.jpg'}, {'title': 'Syrtis Major Hemisphere Enhanced', 'img_url': 'http://astropedia.astrogeology.usgs.gov/download/Mars/Viking/syrtis_major_enhanced.tif/full.jpg'}, {'title': 'Valles Marineris Hemisphere Enhanced', 'img_url': 'http://astropedia.astrogeology.usgs.gov/download/Mars/Viking/valles_marineris_enhanced.tif/full.jpg'}]\n"
     ]
    }
   ],
   "source": [
    "#Save both the image url string for the full resolution hemisphere image\n",
    "#and the Hemisphere title containing the hemisphere name. \n",
    "# use `img_url` and `title`.\n",
    "print(hemisphere_image_urls)"
   ]
  }
 ],
 "metadata": {
  "kernelspec": {
   "display_name": "Python 3",
   "language": "python",
   "name": "python3"
  },
  "language_info": {
   "codemirror_mode": {
    "name": "ipython",
    "version": 3
   },
   "file_extension": ".py",
   "mimetype": "text/x-python",
   "name": "python",
   "nbconvert_exporter": "python",
   "pygments_lexer": "ipython3",
   "version": "3.6.5"
  },
  "varInspector": {
   "cols": {
    "lenName": 16,
    "lenType": 16,
    "lenVar": 40
   },
   "kernels_config": {
    "python": {
     "delete_cmd_postfix": "",
     "delete_cmd_prefix": "del ",
     "library": "var_list.py",
     "varRefreshCmd": "print(var_dic_list())"
    },
    "r": {
     "delete_cmd_postfix": ") ",
     "delete_cmd_prefix": "rm(",
     "library": "var_list.r",
     "varRefreshCmd": "cat(var_dic_list()) "
    }
   },
   "types_to_exclude": [
    "module",
    "function",
    "builtin_function_or_method",
    "instance",
    "_Feature"
   ],
   "window_display": false
  }
 },
 "nbformat": 4,
 "nbformat_minor": 2
}
